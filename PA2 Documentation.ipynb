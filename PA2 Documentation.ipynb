{
 "cells": [
  {
   "cell_type": "markdown",
   "id": "a5471bc0",
   "metadata": {},
   "source": [
    "# Time Complexity Analysis:\n",
    "## void GraphOperator::calculateDegrees( ):\n",
    "Time complexity: $O(\\left\\lvert {V}\\right\\rvert)$\\\n",
    "It traverses all the vertices and calculate the degrees.\n",
    "\n",
    "## void GraphOperator::calculateEccentricities( ):\n",
    "Time complexity: $O(\\left\\lvert{V}\\right\\rvert^2+\\left\\lvert{E}\\right\\rvert)$\\\n",
    "It traverses all the vertices using two for loops and it also traversed all edges, which leads to $O(\\left\\lvert V\\right\\rvert ^2+\\left\\lvert{E}\\right\\rvert)$ time complexity.\n",
    "\n",
    "## double GraphOperator::FindAverageDegree( ):\n",
    "Time complexity: $O(\\left\\lvert {V}\\right\\rvert)$\\\n",
    "It traverses all the vertices and find the average degree.\n",
    "\n",
    "## int GraphOperator::FindHighestDegree( ):\n",
    "Time complexity: $O(\\left\\lvert {V}\\right\\rvert)$\\\n",
    "It traverses all the vertices and find the highest degree.\n",
    "\n",
    "## void GraphOperator::calculateConnected( ):\n",
    "Time complexity: $O(\\left\\lvert{V}\\right\\rvert+\\left\\lvert{E}\\right\\rvert)$\\\n",
    "Since it traverses every node and all the edges to find the connected parts, the time complexity is the same as above.\n",
    "\n",
    "## std::vector< std::vector\\<double> > GraphOperator::FindConnectedParameters( ):\n",
    "Time complexity: $O(\\left\\lvert {V}\\right\\rvert)$\\\n",
    "It traverses the connected vector and get all of its parameters.\n",
    "\n",
    "## double GraphOperator::FindTrianglesRatio( ):\n",
    "Time complexity: $O(\\left\\lvert{V}\\right\\rvert+\\left\\lvert{E}\\right\\rvert)$\\\n",
    "It traverses all the vertices and edges and used the algorithm calculated to find the ratio.\n",
    "\n",
    "## int GraphOperator::FindClosestNode( ):\n",
    "Time complexity: $O(\\left\\lvert {V}\\right\\rvert)$\n",
    "\n",
    "## int GraphOperator::FindHighestInterest( ):\n",
    "Time complexity: $O(\\left\\lvert {V}\\right\\rvert)$\n",
    "\n",
    "## std::pair<int,int> GraphOperator::FindDistanceRatio( ):\n",
    "Time complexity: $O(\\left\\lvert {V}\\right\\rvert^2)$\n"
   ]
  },
  {
   "cell_type": "code",
   "execution_count": null,
   "id": "3ea34cbc",
   "metadata": {},
   "outputs": [],
   "source": []
  }
 ],
 "metadata": {
  "kernelspec": {
   "display_name": "Python 3 (ipykernel)",
   "language": "python",
   "name": "python3"
  },
  "language_info": {
   "codemirror_mode": {
    "name": "ipython",
    "version": 3
   },
   "file_extension": ".py",
   "mimetype": "text/x-python",
   "name": "python",
   "nbconvert_exporter": "python",
   "pygments_lexer": "ipython3",
   "version": "3.8.8"
  }
 },
 "nbformat": 4,
 "nbformat_minor": 5
}
