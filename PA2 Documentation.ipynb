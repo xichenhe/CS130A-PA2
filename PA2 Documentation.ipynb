{
 "cells": [
  {
   "cell_type": "markdown",
   "id": "a5471bc0",
   "metadata": {},
   "source": [
    "# Time Complexity Analysis:\n",
    "## void GraphOperator::calculateDegrees( ):\n",
    "Time complexity: $O(\\left\\lvert {V}\\right\\rvert)$\\\n",
    "It traverses all the vertices and calculate the degrees.\n",
    "\n",
    "## void GraphOperator::calculateEccentricities( ):\n",
    "Time complexity: $O(\\left\\lvert{V}\\right\\rvert^2+\\left\\lvert{E}\\right\\rvert)$\\\n",
    "It traverses all the vertices using two for loops and it also traversed all edges, which leads to $O(\\left\\lvert V\\right\\rvert ^2+\\left\\lvert{E}\\right\\rvert)$ time complexity.\n",
    "\n",
    "## double GraphOperator::FindAverageDegree( ):\n",
    "Time complexity: $O(\\left\\lvert {V}\\right\\rvert)$\\\n",
    "It traverses all the vertices and find the average degree.\n",
    "\n",
    "## int GraphOperator::FindHighestDegree( ):\n",
    "Time complexity: $O(\\left\\lvert {V}\\right\\rvert)$\\\n",
    "It traverses all the vertices and find the highest degree.\n",
    "\n",
    "## void GraphOperator::calculateConnected( ):\n",
    "Time complexity: $O(\\left\\lvert{V}\\right\\rvert+\\left\\lvert{E}\\right\\rvert)$\\\n",
    "Since it traverses every node and all the edges to find the connected parts, the time complexity is the same as above.\n",
    "\n",
    "## std::vector< std::vector\\<double> > GraphOperator::FindConnectedParameters( ):\n",
    "Time complexity: $O(\\left\\lvert {V}\\right\\rvert)$\\\n",
    "It traverses the connected vector and get all of its parameters.\n",
    "\n",
    "## double GraphOperator::FindTrianglesRatio( ):\n",
    "Time complexity: $O(\\left\\lvert{V}\\right\\rvert+\\left\\lvert{E}\\right\\rvert)$\\\n",
    "It traverses all the vertices and edges and used the algorithm calculated to find the ratio.\n",
    "\n",
    "## int GraphOperator::FindClosestNode( ):\n",
    "Time complexity: $O(\\left\\lvert {V}\\right\\rvert)$\n",
    "\n",
    "## int GraphOperator::FindHighestInterest( ):\n",
    "Time complexity: $O(\\left\\lvert {V}\\right\\rvert)$\n",
    "\n",
    "## std::pair<int,int> GraphOperator::FindDistanceRatio( ):\n",
    "Time complexity: $O(\\left\\lvert {V}\\right\\rvert^2)$\n"
   ]
  },
  {
   "cell_type": "markdown",
   "id": "5a455a2f",
   "metadata": {},
   "source": [
    "Below is the plot of the time tooken by each functions:"
   ]
  },
  {
   "cell_type": "code",
   "execution_count": 2,
   "id": "450e5f9a",
   "metadata": {},
   "outputs": [],
   "source": [
    "%matplotlib inline\n",
    "import matplotlib\n",
    "import matplotlib.pyplot as plt\n",
    "import numpy as np\n",
    "from skimage import io\n",
    "import cv2\n",
    "from matplotlib import cm\n",
    "import random"
   ]
  },
  {
   "cell_type": "code",
   "execution_count": 3,
   "id": "48264e55",
   "metadata": {},
   "outputs": [],
   "source": [
    "vertices=[]\n",
    "calc_deg=[]\n",
    "calc_eccen=[]\n",
    "find_ave=[]\n",
    "find_highest=[]\n",
    "find_connect=[]\n",
    "calc_connect=[]\n",
    "find_parameter=[]\n",
    "find_ratio=[]\n",
    "find_closest=[]\n",
    "find_intere=[]\n",
    "find_dis_ratio=[]"
   ]
  },
  {
   "cell_type": "markdown",
   "id": "41a8e53e",
   "metadata": {},
   "source": [
    "read data for $V=500$:"
   ]
  },
  {
   "cell_type": "code",
   "execution_count": 4,
   "id": "8152dd5b",
   "metadata": {},
   "outputs": [
    {
     "name": "stdout",
     "output_type": "stream",
     "text": [
      "[0.086667, 6050.13, 0.006625, 1.4515, 0.000792, 0.342, 0.307666, 0.536, 0.053333, 0.020083, 24213.6]\n"
     ]
    }
   ],
   "source": [
    "with open('record500.txt') as f:\n",
    "    vertices.append(500)\n",
    "    \n",
    "    contents = f.readlines()\n",
    "    val=contents[0].split('\\n')\n",
    "    val=val[0].split(' ')\n",
    "    val = [float(i) for i in val]\n",
    "    print(val)\n",
    "    \n",
    "    calc_deg.append(val[0])\n",
    "    calc_eccen.append(val[1])\n",
    "    find_ave.append(val[2])\n",
    "    find_highest.append(val[3])\n",
    "    find_connect.append(val[4])\n",
    "    calc_connect.append(val[5])\n",
    "    find_parameter.append(val[6])\n",
    "    find_ratio.append(val[7])\n",
    "    find_closest.append(val[8])\n",
    "    find_intere.append(val[9])\n",
    "    find_dis_ratio.append(val[10])"
   ]
  },
  {
   "cell_type": "markdown",
   "id": "e0039692",
   "metadata": {},
   "source": [
    "read data for $V=250$:"
   ]
  },
  {
   "cell_type": "code",
   "execution_count": 5,
   "id": "98659194",
   "metadata": {},
   "outputs": [
    {
     "name": "stdout",
     "output_type": "stream",
     "text": [
      "[0.047333, 778.286, 0.004042, 0.407334, 0.000875, 0.176916, 0.161542, 0.264458, 0.030333, 0.00525, 3158.3]\n"
     ]
    }
   ],
   "source": [
    "with open('record250.txt') as f:\n",
    "    vertices.append(250)\n",
    "    \n",
    "    contents = f.readlines()\n",
    "    val=contents[0].split('\\n')\n",
    "    val=val[0].split(' ')\n",
    "    val = [float(i) for i in val]\n",
    "    print(val)\n",
    "    \n",
    "    calc_deg.append(val[0])\n",
    "    calc_eccen.append(val[1])\n",
    "    find_ave.append(val[2])\n",
    "    find_highest.append(val[3])\n",
    "    find_connect.append(val[4])\n",
    "    calc_connect.append(val[5])\n",
    "    find_parameter.append(val[6])\n",
    "    find_ratio.append(val[7])\n",
    "    find_closest.append(val[8])\n",
    "    find_intere.append(val[9])\n",
    "    find_dis_ratio.append(val[10])"
   ]
  },
  {
   "cell_type": "markdown",
   "id": "c17a0582",
   "metadata": {},
   "source": [
    "read data for $V=100$:"
   ]
  },
  {
   "cell_type": "code",
   "execution_count": 6,
   "id": "02213b07",
   "metadata": {},
   "outputs": [
    {
     "name": "stdout",
     "output_type": "stream",
     "text": [
      "[0.02175, 52.7283, 0.002292, 0.080042, 0.000833, 0.069459, 0.069167, 0.113541, 0.012666, 0.002375, 211.342]\n"
     ]
    }
   ],
   "source": [
    "with open('record100.txt') as f:\n",
    "    vertices.append(100)\n",
    "    \n",
    "    contents = f.readlines()\n",
    "    val=contents[0].split('\\n')\n",
    "    val=val[0].split(' ')\n",
    "    val = [float(i) for i in val]\n",
    "    print(val)\n",
    "    \n",
    "    calc_deg.append(val[0])\n",
    "    calc_eccen.append(val[1])\n",
    "    find_ave.append(val[2])\n",
    "    find_highest.append(val[3])\n",
    "    find_connect.append(val[4])\n",
    "    calc_connect.append(val[5])\n",
    "    find_parameter.append(val[6])\n",
    "    find_ratio.append(val[7])\n",
    "    find_closest.append(val[8])\n",
    "    find_intere.append(val[9])\n",
    "    find_dis_ratio.append(val[10])"
   ]
  },
  {
   "cell_type": "markdown",
   "id": "e3c03c58",
   "metadata": {},
   "source": [
    "read data for $V=1000$:"
   ]
  },
  {
   "cell_type": "code",
   "execution_count": 7,
   "id": "38fb8384",
   "metadata": {},
   "outputs": [
    {
     "name": "stdout",
     "output_type": "stream",
     "text": [
      "[0.160458, 47131.6, 0.010917, 5.51621, 0.000875, 3.85696, 1.861, 1.08996, 0.097792, 0.061167, 188399.0]\n"
     ]
    }
   ],
   "source": [
    "with open('record1000.txt') as f:\n",
    "    vertices.append(1000)\n",
    "    \n",
    "    contents = f.readlines()\n",
    "    val=contents[0].split('\\n')\n",
    "    val=val[0].split(' ')\n",
    "    val = [float(i) for i in val]\n",
    "    print(val)\n",
    "    \n",
    "    calc_deg.append(val[0])\n",
    "    calc_eccen.append(val[1])\n",
    "    find_ave.append(val[2])\n",
    "    find_highest.append(val[3])\n",
    "    find_connect.append(val[4])\n",
    "    calc_connect.append(val[5])\n",
    "    find_parameter.append(val[6])\n",
    "    find_ratio.append(val[7])\n",
    "    find_closest.append(val[8])\n",
    "    find_intere.append(val[9])\n",
    "    find_dis_ratio.append(val[10])"
   ]
  },
  {
   "cell_type": "markdown",
   "id": "9644a37c",
   "metadata": {},
   "source": [
    "read data for $V=750$"
   ]
  },
  {
   "cell_type": "code",
   "execution_count": 8,
   "id": "5b712227",
   "metadata": {},
   "outputs": [
    {
     "name": "stdout",
     "output_type": "stream",
     "text": [
      "[0.1395, 20030.4, 0.008417, 3.13204, 0.000917, 0.526708, 0.456875, 0.830125, 0.084583, 0.021959, 80256.2]\n"
     ]
    }
   ],
   "source": [
    "with open('record750.txt') as f:\n",
    "    vertices.append(750)\n",
    "    \n",
    "    contents = f.readlines()\n",
    "    val=contents[0].split('\\n')\n",
    "    val=val[0].split(' ')\n",
    "    val = [float(i) for i in val]\n",
    "    print(val)\n",
    "    \n",
    "    calc_deg.append(val[0])\n",
    "    calc_eccen.append(val[1])\n",
    "    find_ave.append(val[2])\n",
    "    find_highest.append(val[3])\n",
    "    find_connect.append(val[4])\n",
    "    calc_connect.append(val[5])\n",
    "    find_parameter.append(val[6])\n",
    "    find_ratio.append(val[7])\n",
    "    find_closest.append(val[8])\n",
    "    find_intere.append(val[9])\n",
    "    find_dis_ratio.append(val[10])"
   ]
  },
  {
   "cell_type": "markdown",
   "id": "0ebdaa70",
   "metadata": {},
   "source": [
    "### Then,let's plot the relationship between running time and number of vertices:"
   ]
  },
  {
   "cell_type": "markdown",
   "id": "09e6ddc6",
   "metadata": {},
   "source": [
    "# 1. calculateDegrees( ):"
   ]
  },
  {
   "cell_type": "code",
   "execution_count": 14,
   "id": "9b8b3df4",
   "metadata": {},
   "outputs": [
    {
     "data": {
      "text/plain": [
       "Text(0, 0.5, 'Running time')"
      ]
     },
     "execution_count": 14,
     "metadata": {},
     "output_type": "execute_result"
    },
    {
     "data": {
      "image/png": "[encoded data removed]",
      "text/plain": [
       "<Figure size 432x288 with 1 Axes>"
      ]
     },
     "metadata": {
      "needs_background": "light"
     },
     "output_type": "display_data"
    }
   ],
   "source": [
    "plt.figure()\n",
    "plt.title('calculateDegrees VS. number of vertices')\n",
    "plt.plot(vertices,calc_deg,'bo')\n",
    "plt.xlabel('number of vertices')\n",
    "plt.ylabel('Running time')"
   ]
  },
  {
   "cell_type": "markdown",
   "id": "696a3cd8",
   "metadata": {},
   "source": [
    "# 2. calculateEccentricities(  ):"
   ]
  },
  {
   "cell_type": "code",
   "execution_count": 15,
   "id": "c6dc4085",
   "metadata": {},
   "outputs": [
    {
     "data": {
      "text/plain": [
       "Text(0, 0.5, 'Running time')"
      ]
     },
     "execution_count": 15,
     "metadata": {},
     "output_type": "execute_result"
    },
    {
     "data": {
      "image/png": "[encoded data removed]",
      "text/plain": [
       "<Figure size 432x288 with 1 Axes>"
      ]
     },
     "metadata": {
      "needs_background": "light"
     },
     "output_type": "display_data"
    }
   ],
   "source": [
    "plt.figure()\n",
    "plt.title('calculateEccentricities VS. number of vertices')\n",
    "plt.plot(vertices,calc_eccen,'bo')\n",
    "plt.xlabel('number of vertices')\n",
    "plt.ylabel('Running time')"
   ]
  },
  {
   "cell_type": "markdown",
   "id": "510e274d",
   "metadata": {},
   "source": [
    "# 3. FindAverageDegree(  ):"
   ]
  },
  {
   "cell_type": "code",
   "execution_count": 16,
   "id": "f8f17990",
   "metadata": {},
   "outputs": [
    {
     "data": {
      "text/plain": [
       "Text(0, 0.5, 'Running time')"
      ]
     },
     "execution_count": 16,
     "metadata": {},
     "output_type": "execute_result"
    },
    {
     "data": {
      "image/png": "[encoded data removed]",
      "text/plain": [
       "<Figure size 432x288 with 1 Axes>"
      ]
     },
     "metadata": {
      "needs_background": "light"
     },
     "output_type": "display_data"
    }
   ],
   "source": [
    "plt.figure()\n",
    "plt.title('FindAverageDegree VS. number of vertices')\n",
    "plt.plot(vertices,find_ave,'bo')\n",
    "plt.xlabel('number of vertices')\n",
    "plt.ylabel('Running time')"
   ]
  },
  {
   "cell_type": "markdown",
   "id": "efd7b71c",
   "metadata": {},
   "source": [
    "# 4. FindHighestDegree(  ):"
   ]
  },
  {
   "cell_type": "code",
   "execution_count": 19,
   "id": "87c77237",
   "metadata": {},
   "outputs": [
    {
     "data": {
      "text/plain": [
       "Text(0, 0.5, 'Running time')"
      ]
     },
     "execution_count": 19,
     "metadata": {},
     "output_type": "execute_result"
    },
    {
     "data": {
      "image/png": "[encoded data removed]",
      "text/plain": [
       "<Figure size 432x288 with 1 Axes>"
      ]
     },
     "metadata": {
      "needs_background": "light"
     },
     "output_type": "display_data"
    }
   ],
   "source": [
    "plt.figure()\n",
    "plt.title('FindHighestDegree VS. number of vertices')\n",
    "plt.plot(vertices,find_highest,'bo')\n",
    "plt.xlabel('number of vertices')\n",
    "plt.ylabel('Running time')"
   ]
  },
  {
   "cell_type": "markdown",
   "id": "67303ea8",
   "metadata": {},
   "source": [
    "# 5. FindConnectedNumber( ):"
   ]
  },
  {
   "cell_type": "code",
   "execution_count": 24,
   "id": "3e2ddb25",
   "metadata": {},
   "outputs": [
    {
     "data": {
      "text/plain": [
       "Text(0, 0.5, 'Running time')"
      ]
     },
     "execution_count": 24,
     "metadata": {},
     "output_type": "execute_result"
    },
    {
     "data": {
      "image/png": "[encoded data removed]",
      "text/plain": [
       "<Figure size 432x288 with 1 Axes>"
      ]
     },
     "metadata": {
      "needs_background": "light"
     },
     "output_type": "display_data"
    }
   ],
   "source": [
    "plt.figure()\n",
    "plt.title('FindConnectedNumber VS. number of vertices')\n",
    "plt.plot(vertices,find_connect,'bo')\n",
    "# a, b = np.polyfit(vertices, find_connect, 1)\n",
    "# plt.plot(vertices, a*vertices+b)\n",
    "plt.xlabel('number of vertices')\n",
    "plt.ylabel('Running time')"
   ]
  },
  {
   "cell_type": "markdown",
   "id": "ab9eef01",
   "metadata": {},
   "source": [
    "# 6. calculateConnected(  ):"
   ]
  },
  {
   "cell_type": "code",
   "execution_count": 25,
   "id": "2a18ecf3",
   "metadata": {},
   "outputs": [
    {
     "data": {
      "text/plain": [
       "Text(0, 0.5, 'Running time')"
      ]
     },
     "execution_count": 25,
     "metadata": {},
     "output_type": "execute_result"
    },
    {
     "data": {
      "image/png": "[encoded data removed]",
      "text/plain": [
       "<Figure size 432x288 with 1 Axes>"
      ]
     },
     "metadata": {
      "needs_background": "light"
     },
     "output_type": "display_data"
    }
   ],
   "source": [
    "plt.figure()\n",
    "plt.title('calculateConnected VS. number of vertices')\n",
    "plt.plot(vertices,calc_connect,'bo')\n",
    "plt.xlabel('number of vertices')\n",
    "plt.ylabel('Running time')"
   ]
  },
  {
   "cell_type": "markdown",
   "id": "b5308edd",
   "metadata": {},
   "source": [
    "# 7. FindConnectedParameters(  ):"
   ]
  },
  {
   "cell_type": "code",
   "execution_count": 26,
   "id": "2b847c42",
   "metadata": {},
   "outputs": [
    {
     "data": {
      "text/plain": [
       "Text(0, 0.5, 'Running time')"
      ]
     },
     "execution_count": 26,
     "metadata": {},
     "output_type": "execute_result"
    },
    {
     "data": {
      "image/png": "[encoded data removed]",
      "text/plain": [
       "<Figure size 432x288 with 1 Axes>"
      ]
     },
     "metadata": {
      "needs_background": "light"
     },
     "output_type": "display_data"
    }
   ],
   "source": [
    "plt.figure()\n",
    "plt.title('FindConnectedParameters VS. number of vertices')\n",
    "plt.plot(vertices,find_parameter,'bo')\n",
    "plt.xlabel('number of vertices')\n",
    "plt.ylabel('Running time')"
   ]
  },
  {
   "cell_type": "markdown",
   "id": "f06f9705",
   "metadata": {},
   "source": [
    "# 8. FindTrianglesRatio( ):"
   ]
  },
  {
   "cell_type": "code",
   "execution_count": 27,
   "id": "4dffdcf0",
   "metadata": {},
   "outputs": [
    {
     "data": {
      "text/plain": [
       "Text(0, 0.5, 'Running time')"
      ]
     },
     "execution_count": 27,
     "metadata": {},
     "output_type": "execute_result"
    },
    {
     "data": {
      "image/png": "[encoded data removed]",
      "text/plain": [
       "<Figure size 432x288 with 1 Axes>"
      ]
     },
     "metadata": {
      "needs_background": "light"
     },
     "output_type": "display_data"
    }
   ],
   "source": [
    "plt.figure()\n",
    "plt.title('FindTrianglesRatio VS. number of vertices')\n",
    "plt.plot(vertices,find_ratio,'bo')\n",
    "plt.xlabel('number of vertices')\n",
    "plt.ylabel('Running time')"
   ]
  },
  {
   "cell_type": "markdown",
   "id": "63692f65",
   "metadata": {},
   "source": [
    "# 9. FindClosestNode( ):"
   ]
  },
  {
   "cell_type": "code",
   "execution_count": 28,
   "id": "c786cee8",
   "metadata": {},
   "outputs": [
    {
     "data": {
      "text/plain": [
       "Text(0, 0.5, 'Running time')"
      ]
     },
     "execution_count": 28,
     "metadata": {},
     "output_type": "execute_result"
    },
    {
     "data": {
      "image/png": "[encoded data removed]",
      "text/plain": [
       "<Figure size 432x288 with 1 Axes>"
      ]
     },
     "metadata": {
      "needs_background": "light"
     },
     "output_type": "display_data"
    }
   ],
   "source": [
    "plt.figure()\n",
    "plt.title('FindClosestNode VS. number of vertices')\n",
    "plt.plot(vertices,find_closest,'bo')\n",
    "plt.xlabel('number of vertices')\n",
    "plt.ylabel('Running time')"
   ]
  },
  {
   "cell_type": "markdown",
   "id": "6879529a",
   "metadata": {},
   "source": [
    "# 10. FindHighestInterest(  ):"
   ]
  },
  {
   "cell_type": "code",
   "execution_count": 29,
   "id": "fb396ee6",
   "metadata": {},
   "outputs": [
    {
     "data": {
      "text/plain": [
       "Text(0, 0.5, 'Running time')"
      ]
     },
     "execution_count": 29,
     "metadata": {},
     "output_type": "execute_result"
    },
    {
     "data": {
      "image/png": "[encoded data removed]",
      "text/plain": [
       "<Figure size 432x288 with 1 Axes>"
      ]
     },
     "metadata": {
      "needs_background": "light"
     },
     "output_type": "display_data"
    }
   ],
   "source": [
    "plt.figure()\n",
    "plt.title('FindHighestInterest VS. number of vertices')\n",
    "plt.plot(vertices,find_intere,'bo')\n",
    "plt.xlabel('number of vertices')\n",
    "plt.ylabel('Running time')"
   ]
  },
  {
   "cell_type": "markdown",
   "id": "2a6a6a8b",
   "metadata": {},
   "source": [
    "# 11. FindDistanceRatio(  ):"
   ]
  },
  {
   "cell_type": "code",
   "execution_count": 30,
   "id": "8ab04b1f",
   "metadata": {},
   "outputs": [
    {
     "data": {
      "text/plain": [
       "Text(0, 0.5, 'Running time')"
      ]
     },
     "execution_count": 30,
     "metadata": {},
     "output_type": "execute_result"
    },
    {
     "data": {
      "image/png": "[encoded data removed]",
      "text/plain": [
       "<Figure size 432x288 with 1 Axes>"
      ]
     },
     "metadata": {
      "needs_background": "light"
     },
     "output_type": "display_data"
    }
   ],
   "source": [
    "plt.figure()\n",
    "plt.title('FindDistanceRatio VS. number of vertices')\n",
    "plt.plot(vertices,find_dis_ratio,'bo')\n",
    "plt.xlabel('number of vertices')\n",
    "plt.ylabel('Running time')"
   ]
  }
 ],
 "metadata": {
  "kernelspec": {
   "display_name": "Python 3 (ipykernel)",
   "language": "python",
   "name": "python3"
  },
  "language_info": {
   "codemirror_mode": {
    "name": "ipython",
    "version": 3
   },
   "file_extension": ".py",
   "mimetype": "text/x-python",
   "name": "python",
   "nbconvert_exporter": "python",
   "pygments_lexer": "ipython3",
   "version": "3.8.8"
  }
 },
 "nbformat": 4,
 "nbformat_minor": 5
}
