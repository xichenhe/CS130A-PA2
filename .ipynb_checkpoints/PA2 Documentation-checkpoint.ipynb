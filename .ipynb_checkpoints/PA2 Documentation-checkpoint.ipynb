{
 "cells": [
  {
   "cell_type": "markdown",
   "id": "a5471bc0",
   "metadata": {},
   "source": [
    "# Time Complexity Analysis:\n",
    "## void GraphOperator::calculateDegrees( ):\n",
    "Time complexity: $O(\\left\\lvert {V}\\right\\rvert)$\\\n",
    "It traverses all the vertices and calculate the degrees.\n",
    "\n",
    "## void GraphOperator::calculateEccentricities( ):\n",
    "Time complexity: $O(\\left\\lvert{V}\\right\\rvert^2+\\left\\lvert{E}\\right\\rvert)$\\\n",
    "It traverses all the vertices using two for loops and it also traversed all edges, which leads to $O(\\left\\lvert V\\right\\rvert ^2+\\left\\lvert{E}\\right\\rvert)$ time complexity.\n",
    "\n",
    "## double GraphOperator::FindAverageDegree( ):\n",
    "Time complexity: $O(\\left\\lvert {V}\\right\\rvert)$\\\n",
    "It traverses all the vertices and find the average degree.\n",
    "\n",
    "## int GraphOperator::FindHighestDegree( ):\n",
    "Time complexity: $O(\\left\\lvert {V}\\right\\rvert)$\\\n",
    "It traverses all the vertices and find the highest degree.\n",
    "\n",
    "## void GraphOperator::calculateConnected( ):\n",
    "Time complexity: $O(\\left\\lvert{V}\\right\\rvert+\\left\\lvert{E}\\right\\rvert)$\\\n",
    "Since it traverses every node and all the edges to find the connected parts, the time complexity is the same as above.\n",
    "\n",
    "## std::vector< std::vector\\<double> > GraphOperator::FindConnectedParameters( ):\n",
    "Time complexity: $O(\\left\\lvert {V}\\right\\rvert)$\\\n",
    "It traverses the connected vector and get all of its parameters.\n",
    "\n",
    "## double GraphOperator::FindTrianglesRatio( ):\n",
    "Time complexity: $O(\\left\\lvert{V}\\right\\rvert+\\left\\lvert{E}\\right\\rvert)$\\\n",
    "It traverses all the vertices and edges and used the algorithm calculated to find the ratio.\n",
    "\n",
    "## int GraphOperator::FindClosestNode( ):\n",
    "Time complexity: $O(\\left\\lvert {V}\\right\\rvert)$\n",
    "\n",
    "## int GraphOperator::FindHighestInterest( ):\n",
    "Time complexity: $O(\\left\\lvert {V}\\right\\rvert)$\n",
    "\n",
    "## std::pair<int,int> GraphOperator::FindDistanceRatio( ):\n",
    "Time complexity: $O(\\left\\lvert {V}\\right\\rvert^2)$\n"
   ]
  },
  {
   "cell_type": "markdown",
   "id": "b8ac396c",
   "metadata": {},
   "source": [
    "Below is the plot of the time tooken by each functions:"
   ]
  },
  {
   "cell_type": "code",
   "execution_count": 2,
   "id": "a3718e71",
   "metadata": {},
   "outputs": [],
   "source": [
    "%matplotlib inline\n",
    "import matplotlib\n",
    "import matplotlib.pyplot as plt\n",
    "import numpy as np\n",
    "from skimage import io\n",
    "import cv2\n",
    "from matplotlib import cm\n",
    "import random"
   ]
  },
  {
   "cell_type": "code",
   "execution_count": 3,
   "id": "d54bdd51",
   "metadata": {},
   "outputs": [],
   "source": [
    "vertices=[]\n",
    "calc_deg=[]\n",
    "calc_eccen=[]\n",
    "find_ave=[]\n",
    "find_highest=[]\n",
    "find_connect=[]\n",
    "calc_connect=[]\n",
    "find_parameter=[]\n",
    "find_ratio=[]\n",
    "find_closest=[]\n",
    "find_intere=[]\n",
    "find_dis_ratio=[]"
   ]
  },
  {
   "cell_type": "markdown",
   "id": "5a3d526c",
   "metadata": {},
   "source": [
    "read data for $V=500$:"
   ]
  },
  {
   "cell_type": "code",
   "execution_count": 4,
   "id": "f63d7dd7",
   "metadata": {},
   "outputs": [
    {
     "name": "stdout",
     "output_type": "stream",
     "text": [
      "[0.086667, 6050.13, 0.006625, 1.4515, 0.000792, 0.342, 0.307666, 0.536, 0.053333, 0.020083, 24213.6]\n"
     ]
    }
   ],
   "source": [
    "with open('record500.txt') as f:\n",
    "    vertices.append(500)\n",
    "    \n",
    "    contents = f.readlines()\n",
    "    val=contents[0].split('\\n')\n",
    "    val=val[0].split(' ')\n",
    "    val = [float(i) for i in val]\n",
    "    print(val)\n",
    "    \n",
    "    calc_deg.append(val[0])\n",
    "    calc_eccen.append(val[1])\n",
    "    find_ave.append(val[2])\n",
    "    find_highest.append(val[3])\n",
    "    find_connect.append(val[4])\n",
    "    calc_connect.append(val[5])\n",
    "    find_parameter.append(val[6])\n",
    "    find_ratio.append(val[7])\n",
    "    find_closest.append(val[8])\n",
    "    find_intere.append(val[9])\n",
    "    find_dis_ratio.append(val[10])"
   ]
  },
  {
   "cell_type": "markdown",
   "id": "7826aa31",
   "metadata": {},
   "source": [
    "read data for $V=250$:"
   ]
  },
  {
   "cell_type": "code",
   "execution_count": 5,
   "id": "8307e6d1",
   "metadata": {},
   "outputs": [
    {
     "name": "stdout",
     "output_type": "stream",
     "text": [
      "[0.047333, 778.286, 0.004042, 0.407334, 0.000875, 0.176916, 0.161542, 0.264458, 0.030333, 0.00525, 3158.3]\n"
     ]
    }
   ],
   "source": [
    "with open('record250.txt') as f:\n",
    "    vertices.append(250)\n",
    "    \n",
    "    contents = f.readlines()\n",
    "    val=contents[0].split('\\n')\n",
    "    val=val[0].split(' ')\n",
    "    val = [float(i) for i in val]\n",
    "    print(val)\n",
    "    \n",
    "    calc_deg.append(val[0])\n",
    "    calc_eccen.append(val[1])\n",
    "    find_ave.append(val[2])\n",
    "    find_highest.append(val[3])\n",
    "    find_connect.append(val[4])\n",
    "    calc_connect.append(val[5])\n",
    "    find_parameter.append(val[6])\n",
    "    find_ratio.append(val[7])\n",
    "    find_closest.append(val[8])\n",
    "    find_intere.append(val[9])\n",
    "    find_dis_ratio.append(val[10])"
   ]
  },
  {
   "cell_type": "markdown",
   "id": "86d9b3e9",
   "metadata": {},
   "source": [
    "read data for $V=100$:"
   ]
  },
  {
   "cell_type": "code",
   "execution_count": 6,
   "id": "15ff7d50",
   "metadata": {},
   "outputs": [
    {
     "name": "stdout",
     "output_type": "stream",
     "text": [
      "[0.02175, 52.7283, 0.002292, 0.080042, 0.000833, 0.069459, 0.069167, 0.113541, 0.012666, 0.002375, 211.342]\n"
     ]
    }
   ],
   "source": [
    "with open('record100.txt') as f:\n",
    "    vertices.append(100)\n",
    "    \n",
    "    contents = f.readlines()\n",
    "    val=contents[0].split('\\n')\n",
    "    val=val[0].split(' ')\n",
    "    val = [float(i) for i in val]\n",
    "    print(val)\n",
    "    \n",
    "    calc_deg.append(val[0])\n",
    "    calc_eccen.append(val[1])\n",
    "    find_ave.append(val[2])\n",
    "    find_highest.append(val[3])\n",
    "    find_connect.append(val[4])\n",
    "    calc_connect.append(val[5])\n",
    "    find_parameter.append(val[6])\n",
    "    find_ratio.append(val[7])\n",
    "    find_closest.append(val[8])\n",
    "    find_intere.append(val[9])\n",
    "    find_dis_ratio.append(val[10])"
   ]
  },
  {
   "cell_type": "markdown",
   "id": "bb3f2d57",
   "metadata": {},
   "source": [
    "read data for $V=1000$:"
   ]
  },
  {
   "cell_type": "code",
   "execution_count": 7,
   "id": "6510913e",
   "metadata": {},
   "outputs": [
    {
     "name": "stdout",
     "output_type": "stream",
     "text": [
      "[0.160458, 47131.6, 0.010917, 5.51621, 0.000875, 3.85696, 1.861, 1.08996, 0.097792, 0.061167, 188399.0]\n"
     ]
    }
   ],
   "source": [
    "with open('record1000.txt') as f:\n",
    "    vertices.append(1000)\n",
    "    \n",
    "    contents = f.readlines()\n",
    "    val=contents[0].split('\\n')\n",
    "    val=val[0].split(' ')\n",
    "    val = [float(i) for i in val]\n",
    "    print(val)\n",
    "    \n",
    "    calc_deg.append(val[0])\n",
    "    calc_eccen.append(val[1])\n",
    "    find_ave.append(val[2])\n",
    "    find_highest.append(val[3])\n",
    "    find_connect.append(val[4])\n",
    "    calc_connect.append(val[5])\n",
    "    find_parameter.append(val[6])\n",
    "    find_ratio.append(val[7])\n",
    "    find_closest.append(val[8])\n",
    "    find_intere.append(val[9])\n",
    "    find_dis_ratio.append(val[10])"
   ]
  },
  {
   "cell_type": "markdown",
   "id": "27ec9b2c",
   "metadata": {},
   "source": [
    "read data for $V=750$"
   ]
  }
 ],
 "metadata": {
  "kernelspec": {
   "display_name": "Python 3 (ipykernel)",
   "language": "python",
   "name": "python3"
  },
  "language_info": {
   "codemirror_mode": {
    "name": "ipython",
    "version": 3
   },
   "file_extension": ".py",
   "mimetype": "text/x-python",
   "name": "python",
   "nbconvert_exporter": "python",
   "pygments_lexer": "ipython3",
   "version": "3.8.8"
  }
 },
 "nbformat": 4,
 "nbformat_minor": 5
}
